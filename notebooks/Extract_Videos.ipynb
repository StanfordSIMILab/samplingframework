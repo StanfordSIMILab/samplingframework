{
 "cells": [
  {
   "cell_type": "markdown",
   "metadata": {},
   "source": [
    "# Video Frame Extraction\n",
    "\n",
    "The cell below imports necessary modules, sets up the input and output directories, and calls the `process_all_videos` function to extract frames from all video files in the input directory and save them in the output directory."
   ]
  },
  {
   "cell_type": "code",
   "execution_count": 1,
   "metadata": {},
   "outputs": [
    {
     "name": "stdout",
     "output_type": "stream",
     "text": [
      "Extracting frames from videos in c:\\Users\\yoopo\\Documents\\samplingframework\\data\\videos to c:\\Users\\yoopo\\Documents\\samplingframework\\output\\video_frames...\n",
      "Processing folder: c:\\Users\\yoopo\\Documents\\samplingframework\\data\\videos\n",
      "Processing folder: c:\\Users\\yoopo\\Documents\\samplingframework\\data\\videos\\408\n",
      "Found video: c:\\Users\\yoopo\\Documents\\samplingframework\\data\\videos\\408\\VID002A.mp4\n",
      "c:\\Users\\yoopo\\Documents\\samplingframework\\output\\video_frames\\408\\VID002A\n",
      "Extracted 5002 frames from c:\\Users\\yoopo\\Documents\\samplingframework\\data\\videos\\408\\VID002A.mp4\n",
      "Found video: c:\\Users\\yoopo\\Documents\\samplingframework\\data\\videos\\408\\VID002B.mp4\n",
      "c:\\Users\\yoopo\\Documents\\samplingframework\\output\\video_frames\\408\\VID002B\n",
      "Extracted 5002 frames from c:\\Users\\yoopo\\Documents\\samplingframework\\data\\videos\\408\\VID002B.mp4\n",
      "Found video: c:\\Users\\yoopo\\Documents\\samplingframework\\data\\videos\\408\\VID002C.mp4\n",
      "c:\\Users\\yoopo\\Documents\\samplingframework\\output\\video_frames\\408\\VID002C\n",
      "Extracted 824 frames from c:\\Users\\yoopo\\Documents\\samplingframework\\data\\videos\\408\\VID002C.mp4\n",
      "Processing folder: c:\\Users\\yoopo\\Documents\\samplingframework\\data\\videos\\417\n",
      "Found video: c:\\Users\\yoopo\\Documents\\samplingframework\\data\\videos\\417\\VID003A.mp4\n",
      "c:\\Users\\yoopo\\Documents\\samplingframework\\output\\video_frames\\417\\VID003A\n",
      "Extracted 4991 frames from c:\\Users\\yoopo\\Documents\\samplingframework\\data\\videos\\417\\VID003A.mp4\n",
      "Found video: c:\\Users\\yoopo\\Documents\\samplingframework\\data\\videos\\417\\VID003D.mp4\n",
      "c:\\Users\\yoopo\\Documents\\samplingframework\\output\\video_frames\\417\\VID003D\n",
      "Extracted 1627 frames from c:\\Users\\yoopo\\Documents\\samplingframework\\data\\videos\\417\\VID003D.mp4\n",
      "Processing folder: c:\\Users\\yoopo\\Documents\\samplingframework\\data\\videos\\432\n",
      "Found video: c:\\Users\\yoopo\\Documents\\samplingframework\\data\\videos\\432\\VID001B.mp4\n",
      "c:\\Users\\yoopo\\Documents\\samplingframework\\output\\video_frames\\432\\VID001B\n",
      "Extracted 5002 frames from c:\\Users\\yoopo\\Documents\\samplingframework\\data\\videos\\432\\VID001B.mp4\n",
      "Found video: c:\\Users\\yoopo\\Documents\\samplingframework\\data\\videos\\432\\VID001C.mp4\n",
      "c:\\Users\\yoopo\\Documents\\samplingframework\\output\\video_frames\\432\\VID001C\n",
      "Extracted 3937 frames from c:\\Users\\yoopo\\Documents\\samplingframework\\data\\videos\\432\\VID001C.mp4\n",
      "Processing folder: c:\\Users\\yoopo\\Documents\\samplingframework\\data\\videos\\496\n",
      "Found video: c:\\Users\\yoopo\\Documents\\samplingframework\\data\\videos\\496\\VID001F.mp4\n",
      "c:\\Users\\yoopo\\Documents\\samplingframework\\output\\video_frames\\496\\VID001F\n",
      "Extracted 3761 frames from c:\\Users\\yoopo\\Documents\\samplingframework\\data\\videos\\496\\VID001F.mp4\n",
      "Processing folder: c:\\Users\\yoopo\\Documents\\samplingframework\\data\\videos\\PB\n",
      "Found video: c:\\Users\\yoopo\\Documents\\samplingframework\\data\\videos\\PB\\VID001A.mp4\n",
      "c:\\Users\\yoopo\\Documents\\samplingframework\\output\\video_frames\\PB\\VID001A\n",
      "Extracted 3757 frames from c:\\Users\\yoopo\\Documents\\samplingframework\\data\\videos\\PB\\VID001A.mp4\n",
      "Found video: c:\\Users\\yoopo\\Documents\\samplingframework\\data\\videos\\PB\\VID001B.mp4\n",
      "c:\\Users\\yoopo\\Documents\\samplingframework\\output\\video_frames\\PB\\VID001B\n",
      "Extracted 3113 frames from c:\\Users\\yoopo\\Documents\\samplingframework\\data\\videos\\PB\\VID001B.mp4\n"
     ]
    }
   ],
   "source": [
    "import sys\n",
    "\n",
    "# Add the path to the scripts directory\n",
    "sys.path.append('../scripts')\n",
    "# Import the process_all_videos function from frame_extractor.py\n",
    "from frame_extractor import process_all_videos\n",
    "\n",
    "# Define the input and output directories\n",
    "input_dir = \"../data/videos\"\n",
    "output_dir = \"../output/video_frames/\"\n",
    "\n",
    "# Call the function to process all videos\n",
    "# This will extract frames from all video files in the input directory and its subdirectories\n",
    "# and save the frames in the output directory\n",
    "process_all_videos(input_dir, output_dir)"
   ]
  }
 ],
 "metadata": {
  "kernelspec": {
   "display_name": "Python 3",
   "language": "python",
   "name": "python3"
  },
  "language_info": {
   "codemirror_mode": {
    "name": "ipython",
    "version": 3
   },
   "file_extension": ".py",
   "mimetype": "text/x-python",
   "name": "python",
   "nbconvert_exporter": "python",
   "pygments_lexer": "ipython3",
   "version": "3.10.9"
  }
 },
 "nbformat": 4,
 "nbformat_minor": 2
}
