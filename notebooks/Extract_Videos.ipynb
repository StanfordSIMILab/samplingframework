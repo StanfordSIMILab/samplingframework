{
 "cells": [
  {
   "cell_type": "markdown",
   "metadata": {},
   "source": [
    "# Video Frame Extraction\n",
    "\n",
    "The cell below imports necessary modules, sets up the input and output directories, and calls the `process_all_videos` function to extract frames from all video files in the input directory and save them in the output directory."
   ]
  },
  {
   "cell_type": "code",
   "execution_count": 1,
   "metadata": {},
   "outputs": [
    {
     "name": "stdout",
     "output_type": "stream",
     "text": [
      "Extracting frames from videos in c:\\Users\\yoopo\\Documents\\samplingframework\\data\\videos to c:\\Users\\yoopo\\Documents\\samplingframework\\output\\video_frames...\n",
      "Processing folder: c:\\Users\\yoopo\\Documents\\samplingframework\\data\\videos\n",
      "Processing folder: c:\\Users\\yoopo\\Documents\\samplingframework\\data\\videos\\408\n",
      "Found video: c:\\Users\\yoopo\\Documents\\samplingframework\\data\\videos\\408\\VID002A.mp4\n",
      "c:\\Users\\yoopo\\Documents\\samplingframework\\output\\video_frames\\408\\VID002A\n"
     ]
    },
    {
     "ename": "KeyboardInterrupt",
     "evalue": "",
     "output_type": "error",
     "traceback": [
      "\u001b[1;31m---------------------------------------------------------------------------\u001b[0m",
      "\u001b[1;31mKeyboardInterrupt\u001b[0m                         Traceback (most recent call last)",
      "Cell \u001b[1;32mIn[1], line 15\u001b[0m\n\u001b[0;32m     10\u001b[0m output_dir \u001b[38;5;241m=\u001b[39m \u001b[38;5;124m\"\u001b[39m\u001b[38;5;124m../output/video_frames/\u001b[39m\u001b[38;5;124m\"\u001b[39m\n\u001b[0;32m     12\u001b[0m \u001b[38;5;66;03m# Call the function to process all videos\u001b[39;00m\n\u001b[0;32m     13\u001b[0m \u001b[38;5;66;03m# This will extract frames from all video files in the input directory and its subdirectories\u001b[39;00m\n\u001b[0;32m     14\u001b[0m \u001b[38;5;66;03m# and save the frames in the output directory\u001b[39;00m\n\u001b[1;32m---> 15\u001b[0m \u001b[43mprocess_all_videos\u001b[49m\u001b[43m(\u001b[49m\u001b[43minput_dir\u001b[49m\u001b[43m,\u001b[49m\u001b[43m \u001b[49m\u001b[43moutput_dir\u001b[49m\u001b[43m)\u001b[49m\n",
      "File \u001b[1;32mc:\\Users\\yoopo\\Documents\\samplingframework\\notebooks\\../scripts\\frame_extractor.py:75\u001b[0m, in \u001b[0;36mprocess_all_videos\u001b[1;34m(input_dir, output_dir)\u001b[0m\n\u001b[0;32m     73\u001b[0m os\u001b[38;5;241m.\u001b[39mmakedirs(video_output_dir, exist_ok\u001b[38;5;241m=\u001b[39m\u001b[38;5;28;01mTrue\u001b[39;00m)\n\u001b[0;32m     74\u001b[0m \u001b[38;5;28mprint\u001b[39m (video_output_dir)\n\u001b[1;32m---> 75\u001b[0m \u001b[43mprocess_video\u001b[49m\u001b[43m(\u001b[49m\u001b[43mvideo_path\u001b[49m\u001b[43m,\u001b[49m\u001b[43m \u001b[49m\u001b[43mvideo_output_dir\u001b[49m\u001b[43m)\u001b[49m\n",
      "File \u001b[1;32mc:\\Users\\yoopo\\Documents\\samplingframework\\notebooks\\../scripts\\frame_extractor.py:35\u001b[0m, in \u001b[0;36mprocess_video\u001b[1;34m(video_path, video_output_dir)\u001b[0m\n\u001b[0;32m     33\u001b[0m \u001b[38;5;28;01mif\u001b[39;00m frame_count \u001b[38;5;241m%\u001b[39m frame_interval \u001b[38;5;241m==\u001b[39m \u001b[38;5;241m0\u001b[39m:\n\u001b[0;32m     34\u001b[0m     filename \u001b[38;5;241m=\u001b[39m os\u001b[38;5;241m.\u001b[39mpath\u001b[38;5;241m.\u001b[39mjoin(video_output_dir, \u001b[38;5;124mf\u001b[39m\u001b[38;5;124m\"\u001b[39m\u001b[38;5;132;01m{\u001b[39;00msaved_count\u001b[38;5;132;01m:\u001b[39;00m\u001b[38;5;124m04d\u001b[39m\u001b[38;5;132;01m}\u001b[39;00m\u001b[38;5;124m.jpg\u001b[39m\u001b[38;5;124m\"\u001b[39m)\n\u001b[1;32m---> 35\u001b[0m     \u001b[43mcv2\u001b[49m\u001b[38;5;241;43m.\u001b[39;49m\u001b[43mimwrite\u001b[49m\u001b[43m(\u001b[49m\u001b[43mfilename\u001b[49m\u001b[43m,\u001b[49m\u001b[43m \u001b[49m\u001b[43mframe\u001b[49m\u001b[43m)\u001b[49m  \u001b[38;5;66;03m# Save the frame as a JPEG file\u001b[39;00m\n\u001b[0;32m     36\u001b[0m     saved_count \u001b[38;5;241m+\u001b[39m\u001b[38;5;241m=\u001b[39m \u001b[38;5;241m1\u001b[39m\n\u001b[0;32m     38\u001b[0m frame_count \u001b[38;5;241m+\u001b[39m\u001b[38;5;241m=\u001b[39m \u001b[38;5;241m1\u001b[39m\n",
      "\u001b[1;31mKeyboardInterrupt\u001b[0m: "
     ]
    }
   ],
   "source": [
    "import sys\n",
    "\n",
    "# Add the path to the scripts directory\n",
    "sys.path.append('../scripts')\n",
    "# Import the process_all_videos function from frame_extractor.py\n",
    "from frame_extractor import process_all_videos\n",
    "\n",
    "# Define the input and output directories\n",
    "input_dir = \"../data/videos\"\n",
    "output_dir = \"../output/video_frames/\"\n",
    "\n",
    "# Call the function to process all videos\n",
    "# This will extract frames from all video files in the input directory and its subdirectories\n",
    "# and save the frames in the output directory\n",
    "process_all_videos(input_dir, output_dir)"
   ]
  },
  {
   "cell_type": "markdown",
   "metadata": {},
   "source": [
    "## Create COCO file\n",
    "Below cells create coco files from extracted /output/video_frames and /data/ground_truth data"
   ]
  },
  {
   "cell_type": "code",
   "execution_count": 2,
   "metadata": {},
   "outputs": [],
   "source": [
    "from coco_converter import convert_to_coco, categories"
   ]
  },
  {
   "cell_type": "markdown",
   "metadata": {},
   "source": [
    "```markdown\n",
    "# Test to Create a Single COCO File\n",
    "\n",
    "In this section, we will test the creation of a single COCO file using the provided annotations and images. The `converter` function will be used to convert the annotations into COCO format, and the resulting data will be saved into a JSON file.\n",
    "\n",
    "The following variables are used:\n",
    "- `images`: Path to the directory containing the images.\n",
    "- `annotations`: Path to the directory containing the annotation files.\n",
    "- `output_file`: Path to the output JSON file where the COCO formatted data will be saved.\n",
    "\n",
    "The process involves:\n",
    "1. Converting the annotations to COCO format using the `converter` function.\n",
    "2. Creating a dictionary with the necessary COCO information.\n",
    "3. Saving the COCO formatted data into the specified output JSON file.\n",
    "```\n",
    "```"
   ]
  },
  {
   "cell_type": "code",
   "execution_count": null,
   "metadata": {},
   "outputs": [],
   "source": [
    "images = \"../output/video_frames/417/VID003D\" #images\n",
    "annotations = \"../data/ground_truth/417/VID003D/preds\" #preds which is ground_truth\n",
    "output_file = \"../output/coco/417_VID003D.json\" #output file\n",
    "#'./vid511B_mask2former_swintransformerfixed_coco_score0.7.json' mask2former ground truth swin test random sampling\n",
    "\n",
    "import json\n",
    "import datetime\n",
    "import os\n",
    "\n",
    "coco_images, coco_annotations = convert_to_coco(images, annotations)\n",
    "\n",
    "info = {\n",
    "    \"date_created\": str(datetime.datetime.now()),\n",
    "    \"description\": \"Automatically generated COCO json file for Detectron2.\",\n",
    "}\n",
    "coco_dict = {\"info\": info, \"images\": coco_images, \"categories\": categories, \"licenses\": None}\n",
    "if len(coco_annotations) > 0:\n",
    "\n",
    "    coco_dict[\"annotations\"] = coco_annotations\n",
    "\n",
    "# Ensure the output directory exists\n",
    "os.makedirs(os.path.dirname(output_file), exist_ok=True)\n",
    "\n",
    "with open(output_file, 'w') as train_file:\n",
    "    json.dump(coco_dict, train_file)\n"
   ]
  },
  {
   "cell_type": "markdown",
   "metadata": {},
   "source": [
    "```markdown\n",
    "# Create COCO Files for All Images in a Folder\n",
    "\n",
    "The code in the following cell processes all image files in the specified `base_folder` and its subdirectories. For each folder containing image files, it converts the annotations to COCO format and saves the resulting data into a JSON file.\n",
    "\n",
    "The key variables used in this process are:\n",
    "- `base_folder`: Path to the base directory containing the video frames.\n",
    "- `categories`: List of category definitions used in the COCO format.\n",
    "- `converter`: Function that converts annotations to COCO format.\n",
    "- `create_coco_for_all_files`: Function that processes all image files in the `base_folder` and creates COCO JSON files.\n",
    "\n",
    "The process involves:\n",
    "1. Iterating through all subdirectories in the `base_folder`.\n",
    "2. For each subdirectory containing image files, constructing the paths for images, annotations, and the output JSON file.\n",
    "3. Converting the annotations to COCO format using the `converter` function.\n",
    "4. Creating a dictionary with the necessary COCO information.\n",
    "5. Saving the COCO formatted data into the specified output JSON file.\n",
    "```"
   ]
  },
  {
   "cell_type": "code",
   "execution_count": null,
   "metadata": {},
   "outputs": [
    {
     "name": "stdout",
     "output_type": "stream",
     "text": [
      "Folder: ../output/video_frames\\408\\VID002A\n",
      "Parent Folder: 408\n",
      "Folder Name: VID002A\n",
      "Missing keys in result: dict_keys(['images', 'annotations', 'categories'])\n",
      "Folder: ../output/video_frames\\408\\VID002B\n",
      "Parent Folder: 408\n",
      "Folder Name: VID002B\n",
      "Folder: ../output/video_frames\\408\\VID002C\n",
      "Parent Folder: 408\n",
      "Folder Name: VID002C\n",
      "Folder: ../output/video_frames\\417\\VID003A\n",
      "Parent Folder: 417\n",
      "Folder Name: VID003A\n",
      "Folder: ../output/video_frames\\417\\VID003D\n",
      "Parent Folder: 417\n",
      "Folder Name: VID003D\n",
      "Folder: ../output/video_frames\\432\\VID001B\n",
      "Parent Folder: 432\n",
      "Folder Name: VID001B\n",
      "Folder: ../output/video_frames\\432\\VID001C\n",
      "Parent Folder: 432\n",
      "Folder Name: VID001C\n",
      "Folder: ../output/video_frames\\496\\VID001F\n",
      "Parent Folder: 496\n",
      "Folder Name: VID001F\n",
      "Folder: ../output/video_frames\\PB\\VID001A\n",
      "Parent Folder: PB\n",
      "Folder Name: VID001A\n",
      "Folder: ../output/video_frames\\PB\\VID001B\n",
      "Parent Folder: PB\n",
      "Folder Name: VID001B\n"
     ]
    }
   ],
   "source": [
    "import os\n",
    "import json\n",
    "import datetime\n",
    "\n",
    "def create_coco_for_all_files(base_folder):\n",
    "    for root, dirs, files in os.walk(base_folder):\n",
    "        if any(file.endswith(('.png', '.jpg', '.jpeg')) for file in files):\n",
    "            print(f\"Folder: {root}\")\n",
    "            # get the last folder name and the parent folder name\n",
    "            parent_folder = os.path.basename(os.path.dirname(root))\n",
    "            folder_name = os.path.basename(root)\n",
    "\n",
    "            print(f\"Parent Folder: {parent_folder}\")\n",
    "            print(f\"Folder Name: {folder_name}\")\n",
    "\n",
    "            images = f\"../output/video_frames/{parent_folder}/{folder_name}\" #images\n",
    "            annotations = f\"../data/ground_truth/{parent_folder}/{folder_name}/preds\" #preds which is ground_truth\n",
    "            output_file = f\"../output/coco/{parent_folder}/{folder_name}.json\" #output file\n",
    "\n",
    "            # Ensure the output directory exists\n",
    "            os.makedirs(os.path.dirname(output_file), exist_ok=True)\n",
    "            \n",
    "            coco_images, coco_annotations = convert_to_coco(images, annotations)\n",
    "\n",
    "            info = {\n",
    "                \"date_created\": str(datetime.datetime.now()),\n",
    "                \"description\": \"Automatically generated COCO json file for samplingframework.\",\n",
    "            }\n",
    "            coco_dict = {\"info\": info, \"images\": coco_images, \"categories\": categories, \"licenses\": None}\n",
    "            if len(coco_annotations) > 0:\n",
    "                coco_dict[\"annotations\"] = coco_annotations\n",
    "\n",
    "            with open(output_file, 'w') as train_file:\n",
    "                json.dump(coco_dict, train_file)\n",
    "\n",
    "base_folder = '../output/video_frames'\n",
    "create_coco_for_all_files(base_folder)"
   ]
  }
 ],
 "metadata": {
  "kernelspec": {
   "display_name": "Python 3",
   "language": "python",
   "name": "python3"
  },
  "language_info": {
   "codemirror_mode": {
    "name": "ipython",
    "version": 3
   },
   "file_extension": ".py",
   "mimetype": "text/x-python",
   "name": "python",
   "nbconvert_exporter": "python",
   "pygments_lexer": "ipython3",
   "version": "3.10.9"
  }
 },
 "nbformat": 4,
 "nbformat_minor": 2
}
