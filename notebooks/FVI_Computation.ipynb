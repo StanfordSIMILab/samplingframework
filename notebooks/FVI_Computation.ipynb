{
 "cells": [
  {
   "cell_type": "markdown",
   "metadata": {},
   "source": [
    "# FVI Computation\n",
    "\n",
    "This notebook handles the unzipping of files in /data/ground_truth and computation of Frame Variation Index (FVI) scores."
   ]
  },
  {
   "cell_type": "code",
   "execution_count": 1,
   "metadata": {},
   "outputs": [],
   "source": [
    "import os\n",
    "import json\n",
    "import numpy as np\n",
    "import zipfile\n",
    "import sys\n",
    "\n",
    "# Add the path to the scripts directory\n",
    "sys.path.append('../scripts')\n",
    "\n",
    "from fvi_computation import compute_fvi"
   ]
  },
  {
   "cell_type": "markdown",
   "metadata": {},
   "source": [
    "## Unzip Files\n",
    "\n",
    "Unzip all `.zip` files in the `data/ground_truth` directory."
   ]
  },
  {
   "cell_type": "code",
   "execution_count": 2,
   "metadata": {},
   "outputs": [],
   "source": [
    "def unzip_files(directory):\n",
    "    for root, _, files in os.walk(directory):\n",
    "        for file in files:\n",
    "            if file.endswith('.zip'):\n",
    "                zip_path = os.path.join(root, file)\n",
    "                with zipfile.ZipFile(zip_path, 'r') as zip_ref:\n",
    "                    zip_ref.extractall(root)\n",
    "                os.remove(zip_path)  # Remove the zip file after extraction\n",
    "                print(f\"Unzipped and removed {zip_path}\")\n",
    "\n",
    "data_directory = '../data/ground_truth'\n",
    "unzip_files(data_directory)"
   ]
  },
  {
   "cell_type": "markdown",
   "metadata": {},
   "source": [
    "## Load Frames from JSON\n",
    "\n",
    "Load frames from JSON files in the specified directory."
   ]
  },
  {
   "cell_type": "code",
   "execution_count": 3,
   "metadata": {},
   "outputs": [],
   "source": [
    "import json\n",
    "import numpy as np\n",
    "import os\n",
    "\n",
    "def load_frames_from_json(directory):\n",
    "    frames = []\n",
    "    for root, _, files in os.walk(directory):\n",
    "        json_files = [f for f in files if f.endswith('.json')]\n",
    "        if json_files:\n",
    "            for json_file in json_files:\n",
    "                filepath = os.path.join(root, json_file)\n",
    "                with open(filepath, 'r') as file:\n",
    "                    data = json.load(file)\n",
    "                    if 'labels' in data:\n",
    "                        frames.append(np.array(data['labels']))  # Use 'labels' key based on your JSON structure\n",
    "                    else:\n",
    "                        print(f\"Warning: 'labels' key not found in {filepath}\")\n",
    "    return frames"
   ]
  },
  {
   "cell_type": "markdown",
   "metadata": {},
   "source": [
    "## Process Directory\n",
    "\n",
    "Process the input directory to compute FVI scores and save them in the output directory."
   ]
  },
  {
   "cell_type": "code",
   "execution_count": 4,
   "metadata": {},
   "outputs": [],
   "source": [
    "def process_directory(input_directory, output_directory):\n",
    "    for root, _, files in os.walk(input_directory):\n",
    "        json_files = [f for f in files if f.endswith('.json')]\n",
    "        if json_files:\n",
    "            frames = load_frames_from_json(root)\n",
    "            fvi_scores = compute_fvi(frames)\n",
    "            \n",
    "            # Create the corresponding output directory\n",
    "            relative_path = os.path.relpath(root, input_directory)\n",
    "            output_dir = os.path.join(output_directory, relative_path)\n",
    "            os.makedirs(output_dir, exist_ok=True)\n",
    "            \n",
    "            output_file = os.path.join(output_dir, 'fvi_scores.json')\n",
    "            with open(output_file, 'w') as file:\n",
    "                json.dump(fvi_scores, file, indent=4)\n",
    "            print(f\"FVI scores saved to {output_file}\")"
   ]
  },
  {
   "cell_type": "markdown",
   "metadata": {},
   "source": [
    "## Main Execution\n",
    "\n",
    "Run the main execution to process the `data/ground_truth` directory and save the results in the `output/ground_truth` directory."
   ]
  },
  {
   "cell_type": "code",
   "execution_count": 5,
   "metadata": {},
   "outputs": [
    {
     "name": "stdout",
     "output_type": "stream",
     "text": [
      "Warning: 'labels' key not found in ../data/ground_truth\\408\\VID002A\\preds\\coco_annotations.json\n",
      "FVI scores saved to ../output/ground_truth\\408\\VID002A\\preds\\fvi_scores.json\n",
      "FVI scores saved to ../output/ground_truth\\408\\VID002B\\preds\\fvi_scores.json\n",
      "FVI scores saved to ../output/ground_truth\\408\\VID002C\\preds\\fvi_scores.json\n",
      "FVI scores saved to ../output/ground_truth\\417\\VID003A\\preds\\fvi_scores.json\n",
      "FVI scores saved to ../output/ground_truth\\417\\VID003D\\preds\\fvi_scores.json\n",
      "FVI scores saved to ../output/ground_truth\\432\\VID001B\\preds\\fvi_scores.json\n",
      "FVI scores saved to ../output/ground_truth\\432\\VID001C\\preds\\fvi_scores.json\n",
      "FVI scores saved to ../output/ground_truth\\496\\VID001F\\preds\\fvi_scores.json\n",
      "FVI scores saved to ../output/ground_truth\\PB\\VID001A\\preds\\fvi_scores.json\n",
      "FVI scores saved to ../output/ground_truth\\PB\\VID001B\\preds\\fvi_scores.json\n"
     ]
    }
   ],
   "source": [
    "input_directory = '../data/ground_truth'\n",
    "output_directory = '../output/ground_truth'\n",
    "process_directory(input_directory, output_directory)"
   ]
  }
 ],
 "metadata": {
  "kernelspec": {
   "display_name": "Python 3",
   "language": "python",
   "name": "python3"
  },
  "language_info": {
   "codemirror_mode": {
    "name": "ipython",
    "version": 3
   },
   "file_extension": ".py",
   "mimetype": "text/x-python",
   "name": "python",
   "nbconvert_exporter": "python",
   "pygments_lexer": "ipython3",
   "version": "3.10.9"
  }
 },
 "nbformat": 4,
 "nbformat_minor": 4
}
