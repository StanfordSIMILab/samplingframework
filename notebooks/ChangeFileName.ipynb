{
 "cells": [
  {
   "cell_type": "code",
   "execution_count": 1,
   "metadata": {},
   "outputs": [
    {
     "name": "stdout",
     "output_type": "stream",
     "text": [
      "Files renamed successfully!\n"
     ]
    }
   ],
   "source": [
    "import os\n",
    "\n",
    "# Define the folder containing the files\n",
    "folder_path = \"../data/ground_truth/511/VID002C/preds\"\n",
    "\n",
    "# Get a sorted list of all JSON files in the folder\n",
    "files = sorted([f for f in os.listdir(folder_path) if f.endswith(\".json\")])\n",
    "\n",
    "# Iterate through the files and rename them sequentially\n",
    "for index, file_name in enumerate(files, start=1):\n",
    "    # Construct the new file name with leading zeros (4 digits)\n",
    "    new_name = f\"{index:04d}.json\"\n",
    "    \n",
    "    # Get full paths for renaming\n",
    "    old_path = os.path.join(folder_path, file_name)\n",
    "    new_path = os.path.join(folder_path, new_name)\n",
    "    \n",
    "    # Rename the file\n",
    "    os.rename(old_path, new_path)\n",
    "\n",
    "print(\"Files renamed successfully!\")"
   ]
  },
  {
   "cell_type": "code",
   "execution_count": null,
   "metadata": {},
   "outputs": [],
   "source": []
  }
 ],
 "metadata": {
  "kernelspec": {
   "display_name": "Python 3",
   "language": "python",
   "name": "python3"
  },
  "language_info": {
   "codemirror_mode": {
    "name": "ipython",
    "version": 3
   },
   "file_extension": ".py",
   "mimetype": "text/x-python",
   "name": "python",
   "nbconvert_exporter": "python",
   "pygments_lexer": "ipython3",
   "version": "3.10.9"
  }
 },
 "nbformat": 4,
 "nbformat_minor": 2
}
