{
 "cells": [
  {
   "cell_type": "markdown",
   "metadata": {},
   "source": [
    "## Create COCO file\n",
    "Below cells create coco files from extracted /output/video_frames and /data/ground_truth data"
   ]
  },
  {
   "cell_type": "code",
   "execution_count": 2,
   "metadata": {},
   "outputs": [],
   "source": [
    "from coco_converter import convert_to_coco, categories"
   ]
  },
  {
   "cell_type": "markdown",
   "metadata": {},
   "source": [
    "```markdown\n",
    "In this section, we will test the creation of a single COCO file using the provided annotations and images. The `converter` function will be used to convert the annotations into COCO format, and the resulting data will be saved into a JSON file.\n",
    "\n",
    "The following variables are used:\n",
    "- `images`: Path to the directory containing the images.\n",
    "- `annotations`: Path to the directory containing the annotation files.\n",
    "```\n",
    "```"
   ]
  },
  {
   "cell_type": "code",
   "execution_count": null,
   "metadata": {},
   "outputs": [],
   "source": [
    "images = \"../output/video_frames/417/VID003D\" #images\n",
    "annotations = \"../data/ground_truth/417/VID003D/preds\" #preds which is ground_truth\n",
    "output_file = \"../output/coco/417_VID003D.json\" #output file\n",
    "\n",
    "import json\n",
    "import datetime\n",
    "import os\n",
    "\n",
    "coco_images, coco_annotations = convert_to_coco(images, annotations)\n",
    "\n",
    "info = {\n",
    "    \"date_created\": str(datetime.datetime.now()),\n",
    "    \"description\": \"Automatically generated COCO json file for Detectron2.\",\n",
    "}\n",
    "coco_dict = {\"info\": info, \"images\": coco_images, \"categories\": categories, \"licenses\": None}\n",
    "if len(coco_annotations) > 0:\n",
    "\n",
    "    coco_dict[\"annotations\"] = coco_annotations\n",
    "\n",
    "# Ensure the output directory exists\n",
    "os.makedirs(os.path.dirname(output_file), exist_ok=True)\n",
    "\n",
    "with open(output_file, 'w') as train_file:\n",
    "    json.dump(coco_dict, train_file)\n"
   ]
  }
 ],
 "metadata": {
  "kernelspec": {
   "display_name": "Python 3",
   "language": "python",
   "name": "python3"
  },
  "language_info": {
   "codemirror_mode": {
    "name": "ipython",
    "version": 3
   },
   "file_extension": ".py",
   "mimetype": "text/x-python",
   "name": "python",
   "nbconvert_exporter": "python",
   "pygments_lexer": "ipython3",
   "version": "3.10.9"
  }
 },
 "nbformat": 4,
 "nbformat_minor": 2
}
